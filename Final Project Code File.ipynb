{
 "cells": [
  {
   "cell_type": "markdown",
   "metadata": {
    "id": "uvx7CwEy41Ft"
   },
   "source": [
    "# 1) Import"
   ]
  },
  {
   "cell_type": "code",
   "execution_count": 1,
   "metadata": {
    "colab": {
     "base_uri": "https://localhost:8080/",
     "height": 35
    },
    "id": "s656bS6545P3",
    "outputId": "55c865b3-aa0b-42d6-892e-fa4158b5c4c5"
   },
   "outputs": [
    {
     "data": {
      "text/plain": [
       "'2.8.0'"
      ]
     },
     "execution_count": 1,
     "metadata": {},
     "output_type": "execute_result"
    }
   ],
   "source": [
    "import tensorflow as tf\n",
    "# check the version\n",
    "tf.__version__"
   ]
  },
  {
   "cell_type": "code",
   "execution_count": 2,
   "metadata": {
    "id": "mF9JItch5EUy"
   },
   "outputs": [],
   "source": [
    "from tensorflow.keras.models import Sequential\n",
    "from tensorflow.keras.layers import Dense, Flatten, BatchNormalization, Dropout, Conv2D, MaxPooling2D \n",
    "from tensorflow.keras import regularizers\n",
    "from tensorflow.keras.callbacks import Callback\n",
    "from tensorflow.keras.preprocessing import image\n",
    "from tensorflow.keras import initializers"
   ]
  },
  {
   "cell_type": "code",
   "execution_count": 3,
   "metadata": {
    "id": "VqvYFOlX5G_W"
   },
   "outputs": [],
   "source": [
    "import numpy as np\n",
    "import pandas as pd\n",
    "import matplotlib.pyplot as plt\n",
    "from sklearn.model_selection import train_test_split\n",
    "from sklearn.linear_model import LogisticRegressionCV\n",
    "%matplotlib inline"
   ]
  },
  {
   "cell_type": "code",
   "execution_count": 4,
   "metadata": {},
   "outputs": [],
   "source": [
    "from __future__ import absolute_import, division, print_function\n",
    "import cv2\n",
    "import seaborn as sns\n",
    "from PIL import Image"
   ]
  },
  {
   "cell_type": "markdown",
   "metadata": {
    "id": "9Ir9cXiR5afu"
   },
   "source": [
    "# 2) Load Data"
   ]
  },
  {
   "cell_type": "code",
   "execution_count": 5,
   "metadata": {},
   "outputs": [
    {
     "name": "stdout",
     "output_type": "stream",
     "text": [
      "['cell_images', 'Parasitized', 'Uninfected']\n"
     ]
    }
   ],
   "source": [
    "# infected & uninfected\n",
    "import os\n",
    "print(os.listdir(\"/cell_images\"))\n",
    "infected = os.listdir(\"/cell_images/Parasitized/\")\n",
    "uninfected = os.listdir(\"/cell_images/Uninfected/\")"
   ]
  },
  {
   "cell_type": "code",
   "execution_count": 6,
   "metadata": {},
   "outputs": [
    {
     "name": "stdout",
     "output_type": "stream",
     "text": [
      "\n",
      "\n"
     ]
    }
   ],
   "source": [
    "data = []\n",
    "labels = []\n",
    "\n",
    "for i in infected:\n",
    "    try:\n",
    "    \n",
    "        image = cv2.imread(\"/cell_images/Parasitized/\"+i)\n",
    "        image_array = Image.fromarray(image , 'RGB')\n",
    "        resize_img = image_array.resize((64 , 64))\n",
    "        rotated45 = resize_img.rotate(45)\n",
    "        rotated75 = resize_img.rotate(75)\n",
    "        blur = cv2.blur(np.array(resize_img) ,(10,10))\n",
    "        data.append(np.array(resize_img))\n",
    "        data.append(np.array(rotated45))\n",
    "        data.append(np.array(rotated75))\n",
    "        data.append(np.array(blur))\n",
    "        labels.append(1)\n",
    "        labels.append(1)\n",
    "        labels.append(1)\n",
    "        labels.append(1)\n",
    "        \n",
    "    except AttributeError:\n",
    "        print('')\n",
    "    \n",
    "for u in uninfected:\n",
    "    try:\n",
    "        \n",
    "        image = cv2.imread(\"/cell_images/Uninfected/\"+u)\n",
    "        image_array = Image.fromarray(image , 'RGB')\n",
    "        resize_img = image_array.resize((64 , 64))\n",
    "        rotated45 = resize_img.rotate(45)\n",
    "        rotated75 = resize_img.rotate(75)\n",
    "        data.append(np.array(resize_img))\n",
    "        data.append(np.array(rotated45))\n",
    "        data.append(np.array(rotated75))\n",
    "        labels.append(0)\n",
    "        labels.append(0)\n",
    "        labels.append(0)\n",
    "        \n",
    "    except AttributeError:\n",
    "        print('')"
   ]
  },
  {
   "cell_type": "code",
   "execution_count": 7,
   "metadata": {},
   "outputs": [
    {
     "name": "stdout",
     "output_type": "stream",
     "text": [
      "Cells : (96453, 64, 64, 3) | labels : (96453,)\n"
     ]
    }
   ],
   "source": [
    "\n",
    "cells = np.array(data)\n",
    "labels = np.array(labels)\n",
    "\n",
    "\n",
    "np.save('Cells' , cells)\n",
    "np.save('Labels' , labels)\n",
    "\n",
    "print('Cells : {} | labels : {}'.format(cells.shape , labels.shape))\n",
    "\n"
   ]
  },
  {
   "cell_type": "code",
   "execution_count": 8,
   "metadata": {},
   "outputs": [],
   "source": [
    "n = np.arange(cells.shape[0])\n",
    "np.random.shuffle(n)\n",
    "cells = cells[n]\n",
    "labels = labels[n]\n",
    "#cells"
   ]
  },
  {
   "cell_type": "code",
   "execution_count": 9,
   "metadata": {},
   "outputs": [],
   "source": [
    "# train_x & train_y to be used for training set // x & y to be used for cv and test \n",
    "X_train, X_test, y_train, y_test = train_test_split(cells, labels, \n",
    "                                            test_size = 0.2,\n",
    "                                            random_state = 111)\n"
   ]
  },
  {
   "cell_type": "code",
   "execution_count": 10,
   "metadata": {
    "colab": {
     "base_uri": "https://localhost:8080/"
    },
    "id": "92_t2qg_5lbh",
    "outputId": "3036bd5c-ece5-41fc-cedd-626db6ae1018"
   },
   "outputs": [
    {
     "name": "stdout",
     "output_type": "stream",
     "text": [
      "train X shape:  (77162, 64, 64, 3)\n",
      "train y shape:  (77162,)\n",
      "test X shape:  (19291, 64, 64, 3)\n",
      "test y shape:  (19291,)\n"
     ]
    }
   ],
   "source": [
    "print(\"train X shape: \", X_train.shape) # X_train: numpy array with shape: (num_samples_train, num_features)\n",
    "print(\"train y shape: \", y_train.shape) # y_train: numpy array with shape: (num_samples_train,) \n",
    "print(\"test X shape: \", X_test.shape)   # X_test: numpy array with shape: (num_samples_test, num_features)\n",
    "print(\"test y shape: \", y_test.shape)   # y_test: numpy array with shape: (num_samples_test,)"
   ]
  },
  {
   "cell_type": "code",
   "execution_count": 11,
   "metadata": {
    "colab": {
     "base_uri": "https://localhost:8080/"
    },
    "id": "BFaP4F8P5mGF",
    "outputId": "5eb7cf18-48de-40f9-cb1c-d8f00b40bc8b"
   },
   "outputs": [
    {
     "name": "stdout",
     "output_type": "stream",
     "text": [
      "minimum train y value:  0\n",
      "maximum train y value:  1\n"
     ]
    }
   ],
   "source": [
    "print(\"minimum train y value: \", min(y_train))\n",
    "print(\"maximum train y value: \", max(y_train))"
   ]
  },
  {
   "cell_type": "code",
   "execution_count": 12,
   "metadata": {
    "id": "yxdPAz9b5ohf"
   },
   "outputs": [],
   "source": [
    "# Define the labels\n",
    "\n",
    "labels = [\n",
    "    'Uninfected', # 0\n",
    "    'Infected',   # 1\n",
    "]"
   ]
  },
  {
   "cell_type": "code",
   "execution_count": 13,
   "metadata": {
    "id": "6yH9DIYF5tlr"
   },
   "outputs": [],
   "source": [
    "# Rescale the image values so that they lie in between 0 and 1.\n",
    "\n",
    "X_train = X_train / 255.\n",
    "X_test = X_test / 255."
   ]
  },
  {
   "cell_type": "code",
   "execution_count": 14,
   "metadata": {
    "colab": {
     "base_uri": "https://localhost:8080/",
     "height": 282
    },
    "id": "MnlgKk5LAJ4g",
    "outputId": "d45a6b36-a12d-4453-c864-09e3906e1e9e"
   },
   "outputs": [
    {
     "data": {
      "image/png": "[encoded data removed]",
      "text/plain": [
       "<Figure size 432x288 with 1 Axes>"
      ]
     },
     "metadata": {
      "needs_background": "light"
     },
     "output_type": "display_data"
    },
    {
     "name": "stdout",
     "output_type": "stream",
     "text": [
      "label: Infected\n"
     ]
    }
   ],
   "source": [
    "# Display one of the images\n",
    "\n",
    "i = 5\n",
    "img = X_train[i, : , :]\n",
    "plt.imshow(img)\n",
    "plt.show()\n",
    "print(f\"label: {labels[y_train[i]]}\")"
   ]
  },
  {
   "cell_type": "markdown",
   "metadata": {
    "id": "kF-NAkPM50pT"
   },
   "source": [
    "# 3) Best Model"
   ]
  },
  {
   "cell_type": "code",
   "execution_count": 15,
   "metadata": {
    "id": "0oVV6L6a6K59"
   },
   "outputs": [],
   "source": [
    "# Build the Sequential convolutional neural network model\n",
    "\n",
    "model = Sequential([\n",
    "                    Conv2D(filters=16, kernel_size=(3,3), strides=(1,1), padding='valid', activation = 'relu', \n",
    "                           input_shape=(64,64,3), bias_initializer=initializers.RandomNormal(),\n",
    "                           kernel_regularizer=tf.keras.regularizers.l2(0.005)), \n",
    "                    MaxPooling2D(pool_size=(3,3), strides=(1,1), padding='valid'),\n",
    "                    Flatten(),\n",
    "                    Dropout(0.2),\n",
    "                    Dense(32, activation = 'relu'),\n",
    "                    Dropout(0.2),\n",
    "                    Dense(1, activation = 'sigmoid')\n",
    "\n",
    "])"
   ]
  },
  {
   "cell_type": "code",
   "execution_count": 16,
   "metadata": {
    "colab": {
     "base_uri": "https://localhost:8080/"
    },
    "id": "TCfkkIPPB2HC",
    "outputId": "6c40f395-58cc-48d4-bb68-b006d869435d"
   },
   "outputs": [
    {
     "name": "stdout",
     "output_type": "stream",
     "text": [
      "Model: \"sequential\"\n",
      "_________________________________________________________________\n",
      " Layer (type)                Output Shape              Param #   \n",
      "=================================================================\n",
      " conv2d (Conv2D)             (None, 62, 62, 16)        448       \n",
      "                                                                 \n",
      " max_pooling2d (MaxPooling2D  (None, 60, 60, 16)       0         \n",
      " )                                                               \n",
      "                                                                 \n",
      " flatten (Flatten)           (None, 57600)             0         \n",
      "                                                                 \n",
      " dropout (Dropout)           (None, 57600)             0         \n",
      "                                                                 \n",
      " dense (Dense)               (None, 32)                1843232   \n",
      "                                                                 \n",
      " dropout_1 (Dropout)         (None, 32)                0         \n",
      "                                                                 \n",
      " dense_1 (Dense)             (None, 1)                 33        \n",
      "                                                                 \n",
      "=================================================================\n",
      "Total params: 1,843,713\n",
      "Trainable params: 1,843,713\n",
      "Non-trainable params: 0\n",
      "_________________________________________________________________\n"
     ]
    }
   ],
   "source": [
    "model.summary()"
   ]
  },
  {
   "cell_type": "markdown",
   "metadata": {
    "id": "Aa3QZDenT3Va"
   },
   "source": [
    "# 4) Model Training With Validation Set"
   ]
  },
  {
   "cell_type": "code",
   "execution_count": 17,
   "metadata": {
    "id": "8NXquCaTT-7O"
   },
   "outputs": [],
   "source": [
    "model.compile(\n",
    "    optimizer = tf.keras.optimizers.Adam(learning_rate = 0.005),\n",
    "    loss = 'binary_crossentropy', #used binary_crossentropy because we have a binary output \n",
    "    metrics = ['accuracy'] \n",
    ")"
   ]
  },
  {
   "cell_type": "code",
   "execution_count": 18,
   "metadata": {},
   "outputs": [],
   "source": [
    "#set early stopping\n",
    "\n",
    "early_stopping = tf.keras.callbacks.EarlyStopping(monitor='val_loss', min_delta=0.1, patience=5) "
   ]
  },
  {
   "cell_type": "code",
   "execution_count": 19,
   "metadata": {
    "colab": {
     "base_uri": "https://localhost:8080/"
    },
    "id": "qEQdVgwrcBRk",
    "outputId": "b5482a3d-c8c1-46b2-a9a8-df9221f13970"
   },
   "outputs": [
    {
     "name": "stdout",
     "output_type": "stream",
     "text": [
      "Epoch 1/16\n",
      "242/242 - 85s - loss: 0.7635 - accuracy: 0.6712 - val_loss: 0.5053 - val_accuracy: 0.8412 - 85s/epoch - 350ms/step\n",
      "Epoch 2/16\n",
      "242/242 - 82s - loss: 0.3997 - accuracy: 0.8566 - val_loss: 0.2338 - val_accuracy: 0.9359 - 82s/epoch - 340ms/step\n",
      "Epoch 3/16\n",
      "242/242 - 81s - loss: 0.2498 - accuracy: 0.9206 - val_loss: 0.2074 - val_accuracy: 0.9333 - 81s/epoch - 335ms/step\n",
      "Epoch 4/16\n",
      "242/242 - 81s - loss: 0.2218 - accuracy: 0.9271 - val_loss: 0.2314 - val_accuracy: 0.9371 - 81s/epoch - 334ms/step\n",
      "Epoch 5/16\n",
      "242/242 - 81s - loss: 0.2047 - accuracy: 0.9279 - val_loss: 0.1904 - val_accuracy: 0.9428 - 81s/epoch - 336ms/step\n",
      "Epoch 6/16\n",
      "242/242 - 82s - loss: 0.1879 - accuracy: 0.9303 - val_loss: 0.1966 - val_accuracy: 0.9406 - 82s/epoch - 338ms/step\n",
      "Epoch 7/16\n",
      "242/242 - 82s - loss: 0.1782 - accuracy: 0.9306 - val_loss: 0.1881 - val_accuracy: 0.9409 - 82s/epoch - 337ms/step\n"
     ]
    }
   ],
   "source": [
    "# fit the model with validation set\n",
    "\n",
    "history = model.fit(X_train, y_train, epochs = 16, batch_size = 256, verbose = 2, validation_split=0.2,\n",
    "                    callbacks=[early_stopping]) \n",
    "# The 0.2 means that 20 percent of the training data will be held back for validation."
   ]
  },
  {
   "cell_type": "code",
   "execution_count": 20,
   "metadata": {
    "colab": {
     "base_uri": "https://localhost:8080/",
     "height": 295
    },
    "id": "2nFlnQ7pepza",
    "outputId": "dc29e3d0-8585-43dd-aa0a-f3ec5da32a29"
   },
   "outputs": [
    {
     "data": {
      "image/png": "[encoded data removed]",
      "text/plain": [
       "<Figure size 432x288 with 1 Axes>"
      ]
     },
     "metadata": {
      "needs_background": "light"
     },
     "output_type": "display_data"
    }
   ],
   "source": [
    "# Plot the training and validation loss\n",
    "\n",
    "plt.plot(history.history['loss'])\n",
    "plt.plot(history.history['val_loss'])\n",
    "plt.title('Loss vs. epochs')\n",
    "plt.ylabel('Loss')\n",
    "plt.xlabel('Epoch')\n",
    "plt.legend(['Training', 'Validation'], loc='upper right')\n",
    "plt.show()"
   ]
  },
  {
   "cell_type": "markdown",
   "metadata": {
    "id": "hWs2eGmko8nF"
   },
   "source": [
    "# 5) Model Evaluate on Test"
   ]
  },
  {
   "cell_type": "code",
   "execution_count": 21,
   "metadata": {
    "colab": {
     "base_uri": "https://localhost:8080/"
    },
    "id": "X0KE1b_So_5P",
    "outputId": "09e06312-4149-4b4e-9a98-3f42d7cfb94a"
   },
   "outputs": [
    {
     "name": "stdout",
     "output_type": "stream",
     "text": [
      "603/603 [==============================] - 6s 10ms/step - loss: 0.1830 - accuracy: 0.9420\n"
     ]
    }
   ],
   "source": [
    "#used model with best results\n",
    "test_loss, test_accuracy = model.evaluate(X_test, y_test)"
   ]
  },
  {
   "cell_type": "markdown",
   "metadata": {},
   "source": [
    "# 6) Save Weights"
   ]
  },
  {
   "cell_type": "code",
   "execution_count": 22,
   "metadata": {},
   "outputs": [],
   "source": [
    "#save model weights after training\n",
    "model.save_weights('cell_model_weights')"
   ]
  },
  {
   "cell_type": "code",
   "execution_count": 23,
   "metadata": {},
   "outputs": [],
   "source": [
    "#save entire model\n",
    "model.save('cell_model.h5')"
   ]
  }
 ],
 "metadata": {
  "colab": {
   "collapsed_sections": [],
   "name": "17 - CNN.ipynb",
   "provenance": [],
   "toc_visible": true
  },
  "kernelspec": {
   "display_name": "Python 3",
   "language": "python",
   "name": "python3"
  },
  "language_info": {
   "codemirror_mode": {
    "name": "ipython",
    "version": 3
   },
   "file_extension": ".py",
   "mimetype": "text/x-python",
   "name": "python",
   "nbconvert_exporter": "python",
   "pygments_lexer": "ipython3",
   "version": "3.8.8"
  }
 },
 "nbformat": 4,
 "nbformat_minor": 1
}
